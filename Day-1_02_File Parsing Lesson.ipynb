{
 "cells": [
  {
   "cell_type": "markdown",
   "metadata": {},
   "source": [
    "## File Parsing Lesson"
   ]
  },
  {
   "cell_type": "code",
   "execution_count": 6,
   "metadata": {},
   "outputs": [
    {
     "name": "stdout",
     "output_type": "stream",
     "text": [
      " Volume in drive C is Windows8_OS\n",
      " Volume Serial Number is F6D0-F41C\n",
      "\n",
      " Directory of C:\\Users\\Moein\\Desktop\\cms-workshop\\data\n",
      "\n",
      "06/10/2019  02:05 PM    <DIR>          .\n",
      "06/10/2019  02:05 PM    <DIR>          ..\n",
      "06/10/2019  02:03 PM    <DIR>          .ipynb_checkpoints\n",
      "05/08/2019  11:20 AM               619 benzene.xyz\n",
      "05/08/2019  11:18 AM             2,471 buckminsterfullerene.xyz\n",
      "02/19/2019  09:37 AM           355,359 distance_data_headers.csv\n",
      "06/10/2019  02:05 PM             2,321 File Parsing Lesson_Day1.ipynb\n",
      "06/10/2019  02:03 PM             9,672 Introduction_Day1.ipynb\n",
      "05/08/2019  11:14 AM    <DIR>          outfiles\n",
      "02/19/2019  09:29 AM            61,568 sapt.out\n",
      "01/29/2019  03:02 PM               155 water.xyz\n",
      "               7 File(s)        432,165 bytes\n",
      "               4 Dir(s)  99,584,978,944 bytes free\n"
     ]
    }
   ],
   "source": [
    "ls\n",
    "                                        # it shows the content of the folder I am in"
   ]
  },
  {
   "cell_type": "code",
   "execution_count": 4,
   "metadata": {},
   "outputs": [
    {
     "data": {
      "text/plain": [
       "'C:\\\\Users\\\\Moein\\\\Desktop\\\\cms-workshop\\\\data'"
      ]
     },
     "execution_count": 4,
     "metadata": {},
     "output_type": "execute_result"
    }
   ],
   "source": [
    "pwd"
   ]
  },
  {
   "cell_type": "code",
   "execution_count": 5,
   "metadata": {},
   "outputs": [],
   "source": [
    "import os\n",
    "                                    # \"os\" is python module. it is a collection of scripts written by others, as package\n",
    "                                    # it already exist and was downloaded by anaconda package"
   ]
  },
  {
   "cell_type": "code",
   "execution_count": 7,
   "metadata": {},
   "outputs": [
    {
     "name": "stdout",
     "output_type": "stream",
     "text": [
      "outfiles\\ethanol.out\n"
     ]
    }
   ],
   "source": [
    "ethanol_file = os.path.join('outfiles', 'ethanol.out')\n",
    "print(ethanol_file)"
   ]
  },
  {
   "cell_type": "code",
   "execution_count": 10,
   "metadata": {},
   "outputs": [
    {
     "name": "stdout",
     "output_type": "stream",
     "text": [
      "270\n"
     ]
    }
   ],
   "source": [
    "outfile = open(ethanol_file, 'r')\n",
    "                                        # create a variable which reads out a file\n",
    "data = outfile.readlines()\n",
    "                                        # \"readline()\" sucks in all the contents of the\n",
    "                                        #\"outfile\" and create a list where each element of the list is a line of the file\n",
    "\n",
    "print(len(data))\n",
    "                                        # it measures and prints the length of the list, the number of the lines in the list"
   ]
  },
  {
   "cell_type": "code",
   "execution_count": 11,
   "metadata": {},
   "outputs": [
    {
     "name": "stdout",
     "output_type": "stream",
     "text": [
      "  @DF-RHF Final Energy:  -154.09130176573018\n",
      "\n"
     ]
    }
   ],
   "source": [
    "for line in data:\n",
    "    if 'Final Energy' in line:\n",
    "        energy_line = line\n",
    "print(energy_line)        \n",
    "                                        # it goes through the lines and contents of the list \"data\" and if \"Final Energy\"\n",
    "                                        # is there, it will saves it as a new list \"energy_line\""
   ]
  },
  {
   "cell_type": "code",
   "execution_count": 12,
   "metadata": {},
   "outputs": [
    {
     "name": "stdout",
     "output_type": "stream",
     "text": [
      "['@DF-RHF', 'Final', 'Energy:', '-154.09130176573018']\n"
     ]
    }
   ],
   "source": [
    "words = energy_line.split()\n",
    "print(words)\n",
    "                                        # we're defining a variable which contains a function \".split\" to breaks down the value of energy_line"
   ]
  },
  {
   "cell_type": "code",
   "execution_count": 13,
   "metadata": {},
   "outputs": [
    {
     "name": "stdout",
     "output_type": "stream",
     "text": [
      "['  @DF-RHF Final Energy', '  -154.09130176573018\\n']\n"
     ]
    }
   ],
   "source": [
    "words2 = energy_line.split(':')\n",
    "print(words2)"
   ]
  },
  {
   "cell_type": "code",
   "execution_count": 14,
   "metadata": {},
   "outputs": [
    {
     "name": "stdout",
     "output_type": "stream",
     "text": [
      "-154.09130176573018\n"
     ]
    }
   ],
   "source": [
    "energy = words[3]\n",
    "print(energy)"
   ]
  },
  {
   "cell_type": "code",
   "execution_count": 15,
   "metadata": {},
   "outputs": [
    {
     "ename": "TypeError",
     "evalue": "must be str, not int",
     "output_type": "error",
     "traceback": [
      "\u001b[1;31m---------------------------------------------------------------------------\u001b[0m",
      "\u001b[1;31mTypeError\u001b[0m                                 Traceback (most recent call last)",
      "\u001b[1;32m<ipython-input-15-7bda8dd3f95d>\u001b[0m in \u001b[0;36m<module>\u001b[1;34m()\u001b[0m\n\u001b[1;32m----> 1\u001b[1;33m \u001b[0menergy\u001b[0m \u001b[1;33m+\u001b[0m \u001b[1;36m50\u001b[0m\u001b[1;33m\u001b[0m\u001b[0m\n\u001b[0m",
      "\u001b[1;31mTypeError\u001b[0m: must be str, not int"
     ]
    }
   ],
   "source": [
    "energy + 50"
   ]
  },
  {
   "cell_type": "code",
   "execution_count": 16,
   "metadata": {},
   "outputs": [
    {
     "data": {
      "text/plain": [
       "str"
      ]
     },
     "execution_count": 16,
     "metadata": {},
     "output_type": "execute_result"
    }
   ],
   "source": [
    "type(energy)"
   ]
  },
  {
   "cell_type": "code",
   "execution_count": 17,
   "metadata": {},
   "outputs": [],
   "source": [
    "energy = float(energy)\n",
    "                                        #forcing the energy to be float type"
   ]
  },
  {
   "cell_type": "code",
   "execution_count": 21,
   "metadata": {},
   "outputs": [
    {
     "data": {
      "text/plain": [
       "float"
      ]
     },
     "execution_count": 21,
     "metadata": {},
     "output_type": "execute_result"
    }
   ],
   "source": [
    "type(energy)"
   ]
  },
  {
   "cell_type": "code",
   "execution_count": 22,
   "metadata": {},
   "outputs": [
    {
     "data": {
      "text/plain": [
       "-104.09130176573018"
      ]
     },
     "execution_count": 22,
     "metadata": {},
     "output_type": "execute_result"
    }
   ],
   "source": [
    "energy + 50"
   ]
  },
  {
   "cell_type": "code",
   "execution_count": 23,
   "metadata": {},
   "outputs": [
    {
     "name": "stdout",
     "output_type": "stream",
     "text": [
      "77\n",
      "       Center              X                  Y                   Z               Mass       \n",
      "\n"
     ]
    }
   ],
   "source": [
    "for linenum, line in enumerate(data):\n",
    "    if 'Center' in line:\n",
    "        print(linenum)\n",
    "        print(line)\n",
    "        \n",
    "                                    # for line_number, line_content in enumerate(data):\n",
    "                                    # the function \"enumerate\" stores the line number\n",
    "                                    #in the first variable and the content of it in the second variable we define in the for loop\n",
    "                    "
   ]
  },
  {
   "cell_type": "code",
   "execution_count": 24,
   "metadata": {},
   "outputs": [],
   "source": [
    "for linenum, line in enumerate(data):\n",
    "    if 'Center' in line:\n",
    "        center_line = linenum"
   ]
  },
  {
   "cell_type": "code",
   "execution_count": 25,
   "metadata": {},
   "outputs": [
    {
     "name": "stdout",
     "output_type": "stream",
     "text": [
      "79\n"
     ]
    }
   ],
   "source": [
    "coord_start = center_line +2\n",
    "print(coord_start)\n",
    "                    \n",
    "            # we're doing this because we know from the file content that two lines after the coordinates"
   ]
  },
  {
   "cell_type": "code",
   "execution_count": 26,
   "metadata": {},
   "outputs": [
    {
     "name": "stdout",
     "output_type": "stream",
     "text": [
      "           H          0.278612764252     1.265047047666    -1.274211449480     1.007825032070\n",
      "\n"
     ]
    }
   ],
   "source": [
    "print(data[coord_start])"
   ]
  },
  {
   "cell_type": "code",
   "execution_count": 27,
   "metadata": {},
   "outputs": [],
   "source": [
    "import glob"
   ]
  },
  {
   "cell_type": "code",
   "execution_count": 28,
   "metadata": {},
   "outputs": [
    {
     "data": {
      "text/plain": [
       "'C:\\\\Users\\\\Moein\\\\Desktop\\\\cms-workshop\\\\data'"
      ]
     },
     "execution_count": 28,
     "metadata": {},
     "output_type": "execute_result"
    }
   ],
   "source": [
    "pwd"
   ]
  },
  {
   "cell_type": "code",
   "execution_count": 29,
   "metadata": {},
   "outputs": [
    {
     "name": "stdout",
     "output_type": "stream",
     "text": [
      "outfiles\\*.out\n"
     ]
    }
   ],
   "source": [
    "file_location = os.path.join('outfiles', '*.out')\n",
    "print(file_location)\n",
    "\n",
    "            # it will join the files with the extension .out inside the folder outfile into the variable file_location"
   ]
  },
  {
   "cell_type": "code",
   "execution_count": 30,
   "metadata": {},
   "outputs": [
    {
     "name": "stdout",
     "output_type": "stream",
     "text": [
      "['outfiles\\\\butanol.out', 'outfiles\\\\decanol.out', 'outfiles\\\\ethanol.out', 'outfiles\\\\heptanol.out', 'outfiles\\\\hexanol.out', 'outfiles\\\\methanol.out', 'outfiles\\\\nonanol.out', 'outfiles\\\\octanol.out', 'outfiles\\\\pentanol.out', 'outfiles\\\\propanol.out']\n"
     ]
    }
   ],
   "source": [
    "filenames = glob.glob(file_location)\n",
    "print(filenames)\n",
    "\n",
    "            # glob creates a list with the file names for us"
   ]
  },
  {
   "cell_type": "code",
   "execution_count": 36,
   "metadata": {},
   "outputs": [
    {
     "name": "stdout",
     "output_type": "stream",
     "text": [
      "-232.1655798347283\n",
      "-466.3836241400086\n",
      "-154.09130176573018\n",
      "-349.27397687072676\n",
      "-310.2385332251633\n",
      "-115.04800861868374\n",
      "-427.3465180082815\n",
      "-388.3110864554743\n",
      "-271.20138119895074\n",
      "-193.12836249728798\n"
     ]
    }
   ],
   "source": [
    "for file in filenames:\n",
    "    outfile = open(file, 'r')\n",
    "                                    # it opens the file and read it\n",
    "    data = outfile.readlines()\n",
    "                                    # it takes all the contents of it and puts it in a list called \"data\"\n",
    "    outfile.close()\n",
    "                                    # closes the file it opened\n",
    "    for line in data:\n",
    "        if 'Final Energy' in line:\n",
    "            energy_line = line\n",
    "            words = energy_line.split()\n",
    "            energy = float(words[3])\n",
    "            print(energy)"
   ]
  },
  {
   "cell_type": "code",
   "execution_count": 46,
   "metadata": {},
   "outputs": [
    {
     "name": "stdout",
     "output_type": "stream",
     "text": [
      "outfiles\\butanol.out\n"
     ]
    }
   ],
   "source": [
    "first_filename = filenames[0]\n",
    "print(first_filename)"
   ]
  },
  {
   "cell_type": "code",
   "execution_count": 47,
   "metadata": {},
   "outputs": [
    {
     "name": "stdout",
     "output_type": "stream",
     "text": [
      "butanol.out\n"
     ]
    }
   ],
   "source": [
    "first_filename = os.path.basename(first_file)\n",
    "print(first_filename)"
   ]
  },
  {
   "cell_type": "code",
   "execution_count": 49,
   "metadata": {},
   "outputs": [
    {
     "name": "stdout",
     "output_type": "stream",
     "text": [
      "['butanol', 'out']\n",
      "butanol\n"
     ]
    }
   ],
   "source": [
    "split_first_filename = first_filename.split('.')\n",
    "first_molecule_name = split_first_filename[0]\n",
    "print(split_first_filename)\n",
    "print(first_molecule_name)"
   ]
  },
  {
   "cell_type": "code",
   "execution_count": 52,
   "metadata": {},
   "outputs": [],
   "source": [
    "datafile = open('energies.txt','w+')\n",
    "for file in filenames:\n",
    "    file_name = os.path.basename(file)\n",
    "    split_filename = file_name.split('.')\n",
    "    molecule_name = split_filename[0]\n",
    "    \n",
    "    outfile = open(file,'r')\n",
    "    data = outfile.readlines()\n",
    "    outfile.close()\n",
    "    for line in data:\n",
    "        if 'Final Energy' in line:\n",
    "            energy_line = line\n",
    "            words = energy_line.split()\n",
    "            energy = float(words[3])\n",
    "            datafile.write(F'{molecule_name} \\t {energy:.4f} \\n')\n",
    "            \n",
    "            \n",
    "datafile.close()"
   ]
  },
  {
   "cell_type": "code",
   "execution_count": null,
   "metadata": {},
   "outputs": [],
   "source": []
  }
 ],
 "metadata": {
  "kernelspec": {
   "display_name": "Python 3",
   "language": "python",
   "name": "python3"
  },
  "language_info": {
   "codemirror_mode": {
    "name": "ipython",
    "version": 3
   },
   "file_extension": ".py",
   "mimetype": "text/x-python",
   "name": "python",
   "nbconvert_exporter": "python",
   "pygments_lexer": "ipython3",
   "version": "3.6.5"
  }
 },
 "nbformat": 4,
 "nbformat_minor": 2
}
