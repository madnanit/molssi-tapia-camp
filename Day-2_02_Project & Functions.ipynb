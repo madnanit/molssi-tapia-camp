{
 "cells": [
  {
   "cell_type": "markdown",
   "metadata": {},
   "source": [
    "# Geometry Analysis Project"
   ]
  },
  {
   "cell_type": "code",
   "execution_count": 34,
   "metadata": {},
   "outputs": [],
   "source": [
    "import os"
   ]
  },
  {
   "cell_type": "code",
   "execution_count": 35,
   "metadata": {},
   "outputs": [],
   "source": [
    "import numpy"
   ]
  },
  {
   "cell_type": "code",
   "execution_count": 36,
   "metadata": {},
   "outputs": [
    {
     "data": {
      "text/plain": [
       "'C:\\\\Users\\\\Moein\\\\Desktop\\\\cms-workshop\\\\data'"
      ]
     },
     "execution_count": 36,
     "metadata": {},
     "output_type": "execute_result"
    }
   ],
   "source": [
    "pwd"
   ]
  },
  {
   "cell_type": "code",
   "execution_count": 37,
   "metadata": {},
   "outputs": [
    {
     "name": "stdout",
     "output_type": "stream",
     "text": [
      "water.xyz\n"
     ]
    }
   ],
   "source": [
    "position_file = os.path.join('water.xyz')\n",
    "print(position_file)"
   ]
  },
  {
   "cell_type": "code",
   "execution_count": 38,
   "metadata": {},
   "outputs": [
    {
     "name": "stdout",
     "output_type": "stream",
     "text": [
      "[['O' '0.000000' '-0.007156' '0.965491']\n",
      " ['H1' '-0.000000' '0.001486' '-0.003471']\n",
      " ['H2' '0.000000' '0.931026' '1.207929']]\n"
     ]
    }
   ],
   "source": [
    "positions = numpy.genfromtxt(fname=position_file, dtype='unicode', skip_header=2)\n",
    "print(positions)"
   ]
  },
  {
   "cell_type": "code",
   "execution_count": 39,
   "metadata": {},
   "outputs": [
    {
     "name": "stdout",
     "output_type": "stream",
     "text": [
      "['O' 'H1' 'H2']\n"
     ]
    }
   ],
   "source": [
    "atoms = positions[:,0]\n",
    "print(atoms)"
   ]
  },
  {
   "cell_type": "code",
   "execution_count": 40,
   "metadata": {
    "scrolled": true
   },
   "outputs": [
    {
     "name": "stdout",
     "output_type": "stream",
     "text": [
      "[['0.000000' '-0.007156' '0.965491']\n",
      " ['-0.000000' '0.001486' '-0.003471']\n",
      " ['0.000000' '0.931026' '1.207929']]\n"
     ]
    }
   ],
   "source": [
    "data = positions[:,1:]\n",
    "print(data)"
   ]
  },
  {
   "cell_type": "code",
   "execution_count": 41,
   "metadata": {},
   "outputs": [
    {
     "name": "stdout",
     "output_type": "stream",
     "text": [
      "[[ 0.       -0.007156  0.965491]\n",
      " [-0.        0.001486 -0.003471]\n",
      " [ 0.        0.931026  1.207929]]\n"
     ]
    }
   ],
   "source": [
    "data = data.astype(numpy.float)\n",
    "print(data)"
   ]
  },
  {
   "cell_type": "code",
   "execution_count": 42,
   "metadata": {},
   "outputs": [
    {
     "name": "stdout",
     "output_type": "stream",
     "text": [
      "0.007156\n"
     ]
    }
   ],
   "source": [
    "oo_distance = data[0,0] - data[0,1]\n",
    "print(oo_distance)"
   ]
  },
  {
   "cell_type": "code",
   "execution_count": 70,
   "metadata": {},
   "outputs": [
    {
     "name": "stdout",
     "output_type": "stream",
     "text": [
      "3\n",
      "0.0845931439302264\n"
     ]
    }
   ],
   "source": [
    "square = numpy.sqrt(oo_distance)\n",
    "print(len(atoms))\n",
    "print(square)"
   ]
  },
  {
   "cell_type": "code",
   "execution_count": 80,
   "metadata": {},
   "outputs": [
    {
     "name": "stdout",
     "output_type": "stream",
     "text": [
      "O to O = 0.0\n",
      "O to H1 = 0.9690005374652793\n",
      "O to H2 = 0.9690003348647513\n",
      "H1 to O = 0.9690005374652793\n",
      "H1 to H1 = 0.0\n",
      "H1 to H2 = 1.52693633514957\n",
      "H2 to O = 0.9690003348647513\n",
      "H2 to H1 = 1.52693633514957\n",
      "H2 to H2 = 0.0\n"
     ]
    }
   ],
   "source": [
    "atom_num = len(atoms)\n",
    "\n",
    "for atm1 in range(0,atom_num):\n",
    "    \n",
    "    for atm2 in range(0, atom_num):\n",
    "        \n",
    "        i_subt = data[atm1, 0] - data[atm2, 0]\n",
    "        j_subt = data[atm1, 1] - data[atm2, 1]\n",
    "        k_subt = data[atm1, 2] - data[atm2, 2]\n",
    "        xy_distance = numpy.sqrt(i_subt**2 + j_subt**2 + k_subt**2)\n",
    "             \n",
    "    #all_distance = xy_distance[]    \n",
    "    \n",
    "        print(F'{atoms[atm1]} to {atoms[atm2]} = {xy_distance}')"
   ]
  },
  {
   "cell_type": "markdown",
   "metadata": {},
   "source": [
    "# The above code produces unnecessary numbers. So we're going to improve it "
   ]
  },
  {
   "cell_type": "code",
   "execution_count": 90,
   "metadata": {},
   "outputs": [
    {
     "name": "stdout",
     "output_type": "stream",
     "text": [
      "O to H1 = 0.969\n",
      "O to H2 = 0.969\n"
     ]
    }
   ],
   "source": [
    "atom_num = len(atoms)\n",
    "\n",
    "for atm1 in range(0,atom_num):\n",
    "    \n",
    "    for atm2 in range(0, atom_num):\n",
    "        \n",
    "        if atm2 > atm1:\n",
    "        \n",
    "            i_subt = data[atm1, 0] - data[atm2, 0]\n",
    "            j_subt = data[atm1, 1] - data[atm2, 1]\n",
    "            k_subt = data[atm1, 2] - data[atm2, 2]\n",
    "            xy_distance = numpy.sqrt(i_subt**2 + j_subt**2 + k_subt**2)\n",
    "            \n",
    "            if xy_distance < 1.5:   \n",
    "    \n",
    "                print(F'{atoms[atm1]} to {atoms[atm2]} = {xy_distance:.3f}')"
   ]
  },
  {
   "cell_type": "markdown",
   "metadata": {},
   "source": [
    "### Functions:\n",
    "                    piece of code that does 1 task\n",
    "                    has inputs (arguments)\n",
    "                    has outputs (returns)"
   ]
  },
  {
   "cell_type": "code",
   "execution_count": 91,
   "metadata": {},
   "outputs": [],
   "source": [
    "# def function_name(parameters):\n",
    "#     *** code goes ***\n",
    "#     return value_to_return"
   ]
  },
  {
   "cell_type": "code",
   "execution_count": 111,
   "metadata": {},
   "outputs": [],
   "source": [
    "def calculate_distance(coords1,coords2):\n",
    "    \n",
    "    \"\"\"\n",
    "    this function has two parameters. It returns the distance b/w atoms.\n",
    "    \"\"\"\n",
    "    \n",
    "    x_distance = coords1[0] - coords2[0]\n",
    "    y_distance = coords1[1] - coords2[1]\n",
    "    z_distance = coords1[2] - coords2[2]\n",
    "    xy_distance = numpy.sqrt(x_distance**2 + y_distance**2 + z_distance**2)\n",
    "    return xy_distance\n",
    "\n",
    "                                    # this function has two parameters. It returns the distance b/w atoms."
   ]
  },
  {
   "cell_type": "code",
   "execution_count": 117,
   "metadata": {},
   "outputs": [],
   "source": [
    "def bond_check(blength):\n",
    "    if blength > 0 and blength < 1.5:\n",
    "        return True\n",
    "    else:\n",
    "        return False\n",
    "    \n",
    "                            # a function that checks the distance and returns whether it is true or false\n",
    "                            # it is just based on the distance only"
   ]
  },
  {
   "cell_type": "code",
   "execution_count": 113,
   "metadata": {},
   "outputs": [
    {
     "name": "stdout",
     "output_type": "stream",
     "text": [
      "False\n",
      "True\n",
      "False\n"
     ]
    }
   ],
   "source": [
    "print(bond_check(2))\n",
    "print(bond_check(0.5))\n",
    "print(bond_check(-10))"
   ]
  },
  {
   "cell_type": "code",
   "execution_count": 116,
   "metadata": {},
   "outputs": [
    {
     "name": "stdout",
     "output_type": "stream",
     "text": [
      "O to H1 = 0.969\n",
      "O to H2 = 0.969\n"
     ]
    }
   ],
   "source": [
    "atom_num = len(atoms)\n",
    "\n",
    "for atm1 in range(0,atom_num):\n",
    "    \n",
    "    for atm2 in range(0, atom_num):\n",
    "        \n",
    "        if atm2 > atm1:\n",
    "        \n",
    "            xy_distance = calculate_distance(data[atm1], data[atm2])\n",
    "            \n",
    "            if bond_check(xy_distance) is True:   \n",
    "    \n",
    "                print(F'{atoms[atm1]} to {atoms[atm2]} = {xy_distance:.3f}')"
   ]
  },
  {
   "cell_type": "code",
   "execution_count": 119,
   "metadata": {},
   "outputs": [],
   "source": [
    "def bond_check2(blength, minimum=0, maxmimum=1.5):\n",
    "    \n",
    "    if blength > minimum and blength < maxmimum:\n",
    "        return True\n",
    "    else:\n",
    "        return False\n",
    "    \n",
    "                            # a function that checks the distance within a range and returns whether it is true or false\n",
    "                            # it is based on the distance and we can define the min and max and their default value as well"
   ]
  },
  {
   "cell_type": "code",
   "execution_count": 122,
   "metadata": {},
   "outputs": [
    {
     "name": "stdout",
     "output_type": "stream",
     "text": [
      "O to H1 = 0.969\n",
      "O to H2 = 0.969\n",
      "H1 to H2 = 1.527\n"
     ]
    }
   ],
   "source": [
    "atom_num = len(atoms)\n",
    "\n",
    "for atm1 in range(0,atom_num):\n",
    "    \n",
    "    for atm2 in range(0, atom_num):\n",
    "        \n",
    "        if atm2 > atm1:\n",
    "        \n",
    "            xy_distance = calculate_distance(data[atm1], data[atm2])\n",
    "            \n",
    "            if bond_check2(xy_distance, maxmimum=2) is True:   \n",
    "    \n",
    "                print(F'{atoms[atm1]} to {atoms[atm2]} = {xy_distance:.3f}')"
   ]
  },
  {
   "cell_type": "code",
   "execution_count": null,
   "metadata": {},
   "outputs": [],
   "source": []
  },
  {
   "cell_type": "markdown",
   "metadata": {},
   "source": [
    "### we can copy (or type) our codes into the atom (text editor) and save it as a *.py file\n",
    "### we can run it in the anaconda prompt by typing:\n",
    "### python file_name.py\n",
    "\n",
    "### Alternative way to read the file to measure the distances:\n",
    "### position_file = sys.argv[1]\n",
    "### this way you need to type the path of the file after file_name.py"
   ]
  },
  {
   "cell_type": "code",
   "execution_count": null,
   "metadata": {},
   "outputs": [],
   "source": []
  }
 ],
 "metadata": {
  "kernelspec": {
   "display_name": "Python 3",
   "language": "python",
   "name": "python3"
  },
  "language_info": {
   "codemirror_mode": {
    "name": "ipython",
    "version": 3
   },
   "file_extension": ".py",
   "mimetype": "text/x-python",
   "name": "python",
   "nbconvert_exporter": "python",
   "pygments_lexer": "ipython3",
   "version": "3.6.5"
  }
 },
 "nbformat": 4,
 "nbformat_minor": 2
}
